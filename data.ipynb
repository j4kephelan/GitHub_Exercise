{
 "cells": [
  {
   "cell_type": "code",
   "execution_count": 1,
   "id": "e84f3b83",
   "metadata": {},
   "outputs": [],
   "source": [
    "import pandas as pd\n",
    "import re"
   ]
  },
  {
   "cell_type": "markdown",
   "id": "cebae19a",
   "metadata": {},
   "source": [
    "## Read in Data"
   ]
  },
  {
   "cell_type": "code",
   "execution_count": 2,
   "id": "fdfb3590",
   "metadata": {},
   "outputs": [],
   "source": [
    "dem2012 = pd.read_csv('data/obama2012.csv', dtype=str, engine='python')\n",
    "rep2012 = pd.read_csv('data/romney2012.csv', dtype=str, engine='python')\n",
    "assert dem2012.columns.equals(rep2012.columns), 'cols different in 2012'"
   ]
  },
  {
   "cell_type": "code",
   "execution_count": 3,
   "id": "bad4b9de",
   "metadata": {},
   "outputs": [],
   "source": [
    "dem2016 = pd.read_csv('data/clinton2016.csv', dtype=str, engine='python')\n",
    "rep2016 = pd.read_csv('data/trump2016.csv', dtype=str, engine='python')\n",
    "assert dem2016.columns.equals(rep2016.columns), 'cols different in 2016'"
   ]
  },
  {
   "cell_type": "code",
   "execution_count": 4,
   "id": "03eb3caa",
   "metadata": {},
   "outputs": [],
   "source": [
    "dem2020 = pd.read_csv('data/hashtag_joebiden.csv', dtype=str, engine='python')\n",
    "rep2020 = pd.read_csv('data/hashtag_donaldtrump.csv', dtype=str, engine='python')\n",
    "assert dem2020.columns.equals(rep2020.columns), 'cols different in 2020'"
   ]
  },
  {
   "cell_type": "code",
   "execution_count": null,
   "id": "3ba37b1b",
   "metadata": {},
   "outputs": [],
   "source": [
    "def deal_with_data(df: pd.DataFrame, dropcols=[], droprows=[], replace={}) -> pd.DataFrame:\n",
    "    \"\"\" Edits DataFrame of Tweets given parameters for a particular year \"\"\"\n",
    "    for col in dropcols:\n",
    "        df.drop(col, axis=1, inplace=True)\n",
    "    \n",
    "    for col in droprows:\n",
    "        df.dropna(subset=[col], inplace=True)\n",
    "        \n",
    "    \n",
    "    for col, replacement_val in replace.items():\n",
    "        print(col, replacement_val)\n",
    "        \n",
    "        if isinstance(replacement_val, list):\n",
    "            df[col] = df[col].apply(lambda x: replacement_val if pd.isna(x) else x)\n",
    "        elif replacement_val == 'average':\n",
    "            df[col] = pd.to_numeric(df[col], errors='coerce')\n",
    "            avg = df[col].mean()\n",
    "            df[col] = df[col].fillna(avg)\n",
    "        else:\n",
    "            df[col] = df[col].fillna(replacement_val)\n",
    "        print('done^')\n",
    "    \n",
    "    if len(list(df.columns)) == 5:\n",
    "        df['Hashtags'] = ['#'] * len(df)\n",
    "    \n",
    "    df.columns = ['CreatedAt', 'Tweets', 'LikeCount', 'RetweetCount', 'State', 'Hashtags']\n",
    "    return df\n",
    "\n",
    "def extract_hashtags(tweet):\n",
    "    return re.findall(r\"#\\w+\", tweet)"
   ]
  },
  {
   "cell_type": "markdown",
   "id": "553286a7",
   "metadata": {},
   "source": [
    "# Clean Tweets for each year and each party"
   ]
  },
  {
   "cell_type": "markdown",
   "id": "3d701525",
   "metadata": {},
   "source": [
    "# 2012"
   ]
  },
  {
   "cell_type": "code",
   "execution_count": 6,
   "id": "ef84b85c",
   "metadata": {},
   "outputs": [],
   "source": [
    "dropcols2012 = ['ReplyCount', 'ViewCount', 'User', 'url', 'Place']\n",
    "replace2012 = {\n",
    "    'Hashtags': [],\n",
    "    'LikeCount': 'average',\n",
    "    'RetweetCount': 'average',\n",
    "    'STATE': 'Unknown'\n",
    "}"
   ]
  },
  {
   "cell_type": "markdown",
   "id": "2493eb88",
   "metadata": {},
   "source": [
    "## Democrat"
   ]
  },
  {
   "cell_type": "code",
   "execution_count": 7,
   "id": "86194482",
   "metadata": {
    "scrolled": true
   },
   "outputs": [
    {
     "name": "stdout",
     "output_type": "stream",
     "text": [
      "<class 'pandas.core.frame.DataFrame'>\n",
      "RangeIndex: 99089 entries, 0 to 99088\n",
      "Data columns (total 11 columns):\n",
      " #   Column        Non-Null Count  Dtype \n",
      "---  ------        --------------  ----- \n",
      " 0   Date          99089 non-null  object\n",
      " 1   User          99066 non-null  object\n",
      " 2   Tweets        99066 non-null  object\n",
      " 3   LikeCount     99024 non-null  object\n",
      " 4   RetweetCount  98982 non-null  object\n",
      " 5   ReplyCount    99024 non-null  object\n",
      " 6   ViewCount     42 non-null     object\n",
      " 7   Place         96963 non-null  object\n",
      " 8   STATE         99024 non-null  object\n",
      " 9   Hashtags      32697 non-null  object\n",
      " 10  url           98982 non-null  object\n",
      "dtypes: object(11)\n",
      "memory usage: 8.3+ MB\n"
     ]
    }
   ],
   "source": [
    "dem2012.info()"
   ]
  },
  {
   "cell_type": "code",
   "execution_count": 8,
   "id": "c6d01ef7",
   "metadata": {},
   "outputs": [
    {
     "name": "stdout",
     "output_type": "stream",
     "text": [
      "Hashtags []\n",
      "done^\n",
      "LikeCount average\n",
      "done^\n",
      "RetweetCount average\n",
      "done^\n",
      "STATE Unknown\n",
      "done^\n"
     ]
    }
   ],
   "source": [
    "dem2012 = deal_with_data(dem2012, dropcols=dropcols2012, droprows=['Tweets'], replace=replace2012)"
   ]
  },
  {
   "cell_type": "code",
   "execution_count": 9,
   "id": "d88e1ff7",
   "metadata": {},
   "outputs": [
    {
     "name": "stdout",
     "output_type": "stream",
     "text": [
      "<class 'pandas.core.frame.DataFrame'>\n",
      "Int64Index: 99066 entries, 0 to 99088\n",
      "Data columns (total 6 columns):\n",
      " #   Column        Non-Null Count  Dtype  \n",
      "---  ------        --------------  -----  \n",
      " 0   CreatedAt     99066 non-null  object \n",
      " 1   Tweets        99066 non-null  object \n",
      " 2   LikeCount     99066 non-null  float64\n",
      " 3   RetweetCount  99066 non-null  float64\n",
      " 4   State         99066 non-null  object \n",
      " 5   Hashtags      99066 non-null  object \n",
      "dtypes: float64(2), object(4)\n",
      "memory usage: 5.3+ MB\n"
     ]
    }
   ],
   "source": [
    "dem2012.info()"
   ]
  },
  {
   "cell_type": "markdown",
   "id": "065a8f9a",
   "metadata": {},
   "source": [
    "## Republican"
   ]
  },
  {
   "cell_type": "code",
   "execution_count": 10,
   "id": "d6190674",
   "metadata": {},
   "outputs": [
    {
     "name": "stdout",
     "output_type": "stream",
     "text": [
      "<class 'pandas.core.frame.DataFrame'>\n",
      "RangeIndex: 100676 entries, 0 to 100675\n",
      "Data columns (total 11 columns):\n",
      " #   Column        Non-Null Count   Dtype \n",
      "---  ------        --------------   ----- \n",
      " 0   Date          100676 non-null  object\n",
      " 1   User          100648 non-null  object\n",
      " 2   Tweets        100648 non-null  object\n",
      " 3   LikeCount     100606 non-null  object\n",
      " 4   RetweetCount  100564 non-null  object\n",
      " 5   ReplyCount    100606 non-null  object\n",
      " 6   ViewCount     42 non-null      object\n",
      " 7   Place         98079 non-null   object\n",
      " 8   STATE         100606 non-null  object\n",
      " 9   Hashtags      35967 non-null   object\n",
      " 10  url           100564 non-null  object\n",
      "dtypes: object(11)\n",
      "memory usage: 8.4+ MB\n"
     ]
    }
   ],
   "source": [
    "rep2012.info()"
   ]
  },
  {
   "cell_type": "code",
   "execution_count": 11,
   "id": "ec71a108",
   "metadata": {},
   "outputs": [
    {
     "name": "stdout",
     "output_type": "stream",
     "text": [
      "Hashtags []\n",
      "done^\n",
      "LikeCount average\n",
      "done^\n",
      "RetweetCount average\n",
      "done^\n",
      "STATE Unknown\n",
      "done^\n"
     ]
    }
   ],
   "source": [
    "rep2012 = deal_with_data(rep2012, dropcols=dropcols2012, droprows=['Tweets'], replace=replace2012)"
   ]
  },
  {
   "cell_type": "code",
   "execution_count": 12,
   "id": "1929859d",
   "metadata": {},
   "outputs": [
    {
     "name": "stdout",
     "output_type": "stream",
     "text": [
      "<class 'pandas.core.frame.DataFrame'>\n",
      "Int64Index: 100648 entries, 0 to 100675\n",
      "Data columns (total 6 columns):\n",
      " #   Column        Non-Null Count   Dtype  \n",
      "---  ------        --------------   -----  \n",
      " 0   CreatedAt     100648 non-null  object \n",
      " 1   Tweets        100648 non-null  object \n",
      " 2   LikeCount     100648 non-null  float64\n",
      " 3   RetweetCount  100648 non-null  float64\n",
      " 4   State         100648 non-null  object \n",
      " 5   Hashtags      100648 non-null  object \n",
      "dtypes: float64(2), object(4)\n",
      "memory usage: 5.4+ MB\n"
     ]
    }
   ],
   "source": [
    "rep2012.info()"
   ]
  },
  {
   "cell_type": "markdown",
   "id": "eff3e7df",
   "metadata": {},
   "source": [
    "# 2016"
   ]
  },
  {
   "cell_type": "markdown",
   "id": "8cf47cb2",
   "metadata": {},
   "source": [
    "## Democrat"
   ]
  },
  {
   "cell_type": "code",
   "execution_count": 13,
   "id": "6cd262c8",
   "metadata": {},
   "outputs": [],
   "source": [
    "dropcols2016 = ['ReplyCount', 'ViewCount', 'User', 'url', 'Place']\n",
    "replace2016 = {\n",
    "    'Hashtags': [],\n",
    "    'LikeCount': 'average',\n",
    "    'RetweetCount': 'average',\n",
    "    'STATE': 'Unknown'\n",
    "}"
   ]
  },
  {
   "cell_type": "code",
   "execution_count": 14,
   "id": "d14566cb",
   "metadata": {},
   "outputs": [
    {
     "name": "stdout",
     "output_type": "stream",
     "text": [
      "<class 'pandas.core.frame.DataFrame'>\n",
      "RangeIndex: 279562 entries, 0 to 279561\n",
      "Data columns (total 11 columns):\n",
      " #   Column        Non-Null Count   Dtype \n",
      "---  ------        --------------   ----- \n",
      " 0   Date          279562 non-null  object\n",
      " 1   User          279562 non-null  object\n",
      " 2   Tweets        279562 non-null  object\n",
      " 3   LikeCount     279562 non-null  object\n",
      " 4   RetweetCount  279562 non-null  object\n",
      " 5   ReplyCount    279562 non-null  object\n",
      " 6   ViewCount     0 non-null       object\n",
      " 7   Place         262226 non-null  object\n",
      " 8   STATE         279562 non-null  object\n",
      " 9   Hashtags      88990 non-null   object\n",
      " 10  url           279562 non-null  object\n",
      "dtypes: object(11)\n",
      "memory usage: 23.5+ MB\n"
     ]
    }
   ],
   "source": [
    "dem2016.info()"
   ]
  },
  {
   "cell_type": "code",
   "execution_count": 15,
   "id": "012978be",
   "metadata": {},
   "outputs": [
    {
     "name": "stdout",
     "output_type": "stream",
     "text": [
      "Hashtags []\n",
      "done^\n",
      "LikeCount average\n",
      "done^\n",
      "RetweetCount average\n",
      "done^\n",
      "STATE Unknown\n",
      "done^\n"
     ]
    }
   ],
   "source": [
    "dem2016 = deal_with_data(dem2016, dropcols=dropcols2016, droprows=['Tweets'], replace=replace2016)"
   ]
  },
  {
   "cell_type": "code",
   "execution_count": 16,
   "id": "84d20b43",
   "metadata": {},
   "outputs": [
    {
     "name": "stdout",
     "output_type": "stream",
     "text": [
      "<class 'pandas.core.frame.DataFrame'>\n",
      "RangeIndex: 279562 entries, 0 to 279561\n",
      "Data columns (total 6 columns):\n",
      " #   Column        Non-Null Count   Dtype \n",
      "---  ------        --------------   ----- \n",
      " 0   CreatedAt     279562 non-null  object\n",
      " 1   Tweets        279562 non-null  object\n",
      " 2   LikeCount     279562 non-null  int64 \n",
      " 3   RetweetCount  279562 non-null  int64 \n",
      " 4   State         279562 non-null  object\n",
      " 5   Hashtags      279562 non-null  object\n",
      "dtypes: int64(2), object(4)\n",
      "memory usage: 12.8+ MB\n"
     ]
    }
   ],
   "source": [
    "dem2016.info()"
   ]
  },
  {
   "cell_type": "markdown",
   "id": "bf3bc349",
   "metadata": {},
   "source": [
    "## Republican"
   ]
  },
  {
   "cell_type": "code",
   "execution_count": 17,
   "id": "b7e28a27",
   "metadata": {},
   "outputs": [
    {
     "name": "stdout",
     "output_type": "stream",
     "text": [
      "<class 'pandas.core.frame.DataFrame'>\n",
      "RangeIndex: 817320 entries, 0 to 817319\n",
      "Data columns (total 11 columns):\n",
      " #   Column        Non-Null Count   Dtype \n",
      "---  ------        --------------   ----- \n",
      " 0   Date          817320 non-null  object\n",
      " 1   User          817320 non-null  object\n",
      " 2   Tweets        817320 non-null  object\n",
      " 3   LikeCount     817320 non-null  object\n",
      " 4   RetweetCount  817320 non-null  object\n",
      " 5   ReplyCount    817320 non-null  object\n",
      " 6   ViewCount     0 non-null       object\n",
      " 7   Place         758953 non-null  object\n",
      " 8   STATE         817320 non-null  object\n",
      " 9   Hashtags      236384 non-null  object\n",
      " 10  url           817320 non-null  object\n",
      "dtypes: object(11)\n",
      "memory usage: 68.6+ MB\n"
     ]
    }
   ],
   "source": [
    "rep2016.info()"
   ]
  },
  {
   "cell_type": "code",
   "execution_count": 18,
   "id": "5f2d3656",
   "metadata": {},
   "outputs": [
    {
     "name": "stdout",
     "output_type": "stream",
     "text": [
      "Hashtags []\n",
      "done^\n",
      "LikeCount average\n",
      "done^\n",
      "RetweetCount average\n",
      "done^\n",
      "STATE Unknown\n",
      "done^\n"
     ]
    }
   ],
   "source": [
    "rep2016 = deal_with_data(rep2016, dropcols=dropcols2016, droprows=['Tweets'], replace=replace2016)"
   ]
  },
  {
   "cell_type": "code",
   "execution_count": 19,
   "id": "c636056c",
   "metadata": {},
   "outputs": [
    {
     "name": "stdout",
     "output_type": "stream",
     "text": [
      "<class 'pandas.core.frame.DataFrame'>\n",
      "RangeIndex: 817320 entries, 0 to 817319\n",
      "Data columns (total 6 columns):\n",
      " #   Column        Non-Null Count   Dtype \n",
      "---  ------        --------------   ----- \n",
      " 0   CreatedAt     817320 non-null  object\n",
      " 1   Tweets        817320 non-null  object\n",
      " 2   LikeCount     817320 non-null  int64 \n",
      " 3   RetweetCount  817320 non-null  int64 \n",
      " 4   State         817320 non-null  object\n",
      " 5   Hashtags      817320 non-null  object\n",
      "dtypes: int64(2), object(4)\n",
      "memory usage: 37.4+ MB\n"
     ]
    }
   ],
   "source": [
    "rep2016.info()"
   ]
  },
  {
   "cell_type": "markdown",
   "id": "4cb63950",
   "metadata": {},
   "source": [
    "# 2020"
   ]
  },
  {
   "cell_type": "code",
   "execution_count": 20,
   "id": "5a8ee3a3",
   "metadata": {},
   "outputs": [],
   "source": [
    "dropcols2020 = ['tweet_id', 'source', 'user_id', 'user_name', 'user_screen_name', 'user_description',\n",
    "               'user_followers_count', 'lat', 'long', 'city', 'continent', 'country',\n",
    "               'user_join_date', 'collected_at', 'state_code', 'user_location']\n",
    "\n",
    "replace2020 = {'state': 'Unknown', 'retweet_count': 0, 'likes': 'average'}"
   ]
  },
  {
   "cell_type": "markdown",
   "id": "d8b6a493",
   "metadata": {},
   "source": [
    "## Democrat"
   ]
  },
  {
   "cell_type": "code",
   "execution_count": 21,
   "id": "7057705d",
   "metadata": {},
   "outputs": [
    {
     "name": "stdout",
     "output_type": "stream",
     "text": [
      "<class 'pandas.core.frame.DataFrame'>\n",
      "RangeIndex: 777073 entries, 0 to 777072\n",
      "Data columns (total 21 columns):\n",
      " #   Column                Non-Null Count   Dtype \n",
      "---  ------                --------------   ----- \n",
      " 0   created_at            777073 non-null  object\n",
      " 1   tweet_id              776995 non-null  object\n",
      " 2   tweet                 776995 non-null  object\n",
      " 3   likes                 776914 non-null  object\n",
      " 4   retweet_count         776895 non-null  object\n",
      " 5   source                776182 non-null  object\n",
      " 6   user_id               776889 non-null  object\n",
      " 7   user_name             776877 non-null  object\n",
      " 8   user_screen_name      776895 non-null  object\n",
      " 9   user_description      694885 non-null  object\n",
      " 10  user_join_date        776784 non-null  object\n",
      " 11  user_followers_count  776885 non-null  object\n",
      " 12  user_location         543066 non-null  object\n",
      " 13  lat                   355284 non-null  object\n",
      " 14  long                  355284 non-null  object\n",
      " 15  city                  186869 non-null  object\n",
      " 16  country               353770 non-null  object\n",
      " 17  continent             353788 non-null  object\n",
      " 18  state                 260191 non-null  object\n",
      " 19  state_code            244603 non-null  object\n",
      " 20  collected_at          776777 non-null  object\n",
      "dtypes: object(21)\n",
      "memory usage: 124.5+ MB\n"
     ]
    }
   ],
   "source": [
    "dem2020.info()"
   ]
  },
  {
   "cell_type": "code",
   "execution_count": 22,
   "id": "95db1142",
   "metadata": {},
   "outputs": [
    {
     "name": "stdout",
     "output_type": "stream",
     "text": [
      "state Unknown\n",
      "done^\n",
      "retweet_count 0\n",
      "done^\n",
      "likes average\n",
      "done^\n"
     ]
    }
   ],
   "source": [
    "dem2020 = deal_with_data(dem2020, dropcols=dropcols2020, droprows=['tweet'], replace=replace2020)\n",
    "dem2020['Hashtags'] = dem2020['Tweets'].astype(str).apply(extract_hashtags)"
   ]
  },
  {
   "cell_type": "code",
   "execution_count": 23,
   "id": "cca6ffe3",
   "metadata": {},
   "outputs": [
    {
     "name": "stdout",
     "output_type": "stream",
     "text": [
      "<class 'pandas.core.frame.DataFrame'>\n",
      "Int64Index: 776995 entries, 0 to 777072\n",
      "Data columns (total 6 columns):\n",
      " #   Column        Non-Null Count   Dtype  \n",
      "---  ------        --------------   -----  \n",
      " 0   CreatedAt     776995 non-null  object \n",
      " 1   Tweets        776995 non-null  object \n",
      " 2   LikeCount     776995 non-null  float64\n",
      " 3   RetweetCount  776995 non-null  object \n",
      " 4   State         776995 non-null  object \n",
      " 5   Hashtags      776995 non-null  object \n",
      "dtypes: float64(1), object(5)\n",
      "memory usage: 41.5+ MB\n"
     ]
    }
   ],
   "source": [
    "dem2020.info()"
   ]
  },
  {
   "cell_type": "markdown",
   "id": "cd27c2a2",
   "metadata": {},
   "source": [
    "## Republican"
   ]
  },
  {
   "cell_type": "code",
   "execution_count": 24,
   "id": "fd82a120",
   "metadata": {},
   "outputs": [
    {
     "name": "stdout",
     "output_type": "stream",
     "text": [
      "<class 'pandas.core.frame.DataFrame'>\n",
      "RangeIndex: 971087 entries, 0 to 971086\n",
      "Data columns (total 21 columns):\n",
      " #   Column                Non-Null Count   Dtype \n",
      "---  ------                --------------   ----- \n",
      " 0   created_at            971087 non-null  object\n",
      " 1   tweet_id              971073 non-null  object\n",
      " 2   tweet                 971073 non-null  object\n",
      " 3   likes                 971045 non-null  object\n",
      " 4   retweet_count         970933 non-null  object\n",
      " 5   source                970057 non-null  object\n",
      " 6   user_id               970929 non-null  object\n",
      " 7   user_name             970917 non-null  object\n",
      " 8   user_screen_name      970933 non-null  object\n",
      " 9   user_description      869663 non-null  object\n",
      " 10  user_join_date        970779 non-null  object\n",
      " 11  user_followers_count  970917 non-null  object\n",
      " 12  user_location         675839 non-null  object\n",
      " 13  lat                   445702 non-null  object\n",
      " 14  long                  445705 non-null  object\n",
      " 15  city                  227180 non-null  object\n",
      " 16  country               442732 non-null  object\n",
      " 17  continent             442749 non-null  object\n",
      " 18  state                 320614 non-null  object\n",
      " 19  state_code            300414 non-null  object\n",
      " 20  collected_at          970765 non-null  object\n",
      "dtypes: object(21)\n",
      "memory usage: 155.6+ MB\n"
     ]
    }
   ],
   "source": [
    "rep2020.info()"
   ]
  },
  {
   "cell_type": "code",
   "execution_count": 25,
   "id": "5a2ea67b",
   "metadata": {},
   "outputs": [
    {
     "name": "stdout",
     "output_type": "stream",
     "text": [
      "state Unknown\n",
      "done^\n",
      "retweet_count 0\n",
      "done^\n",
      "likes average\n",
      "done^\n"
     ]
    }
   ],
   "source": [
    "rep2020 = deal_with_data(rep2020, dropcols=dropcols2020, droprows=['tweet'], replace=replace2020)\n",
    "rep2020['Hashtags'] = rep2020['Tweets'].astype(str).apply(extract_hashtags)"
   ]
  },
  {
   "cell_type": "code",
   "execution_count": 26,
   "id": "c2274e1f",
   "metadata": {},
   "outputs": [
    {
     "name": "stdout",
     "output_type": "stream",
     "text": [
      "<class 'pandas.core.frame.DataFrame'>\n",
      "Int64Index: 971073 entries, 0 to 971086\n",
      "Data columns (total 6 columns):\n",
      " #   Column        Non-Null Count   Dtype  \n",
      "---  ------        --------------   -----  \n",
      " 0   CreatedAt     971073 non-null  object \n",
      " 1   Tweets        971073 non-null  object \n",
      " 2   LikeCount     971073 non-null  float64\n",
      " 3   RetweetCount  971073 non-null  object \n",
      " 4   State         971073 non-null  object \n",
      " 5   Hashtags      971073 non-null  object \n",
      "dtypes: float64(1), object(5)\n",
      "memory usage: 51.9+ MB\n"
     ]
    }
   ],
   "source": [
    "rep2020.info()"
   ]
  },
  {
   "cell_type": "markdown",
   "id": "737bf127",
   "metadata": {},
   "source": [
    "# Check columns"
   ]
  },
  {
   "cell_type": "code",
   "execution_count": 27,
   "id": "f7ab2f90",
   "metadata": {},
   "outputs": [
    {
     "name": "stdout",
     "output_type": "stream",
     "text": [
      "dem 2012: ['CreatedAt', 'Tweets', 'LikeCount', 'RetweetCount', 'State', 'Hashtags']\n",
      "rep 2012: ['CreatedAt', 'Tweets', 'LikeCount', 'RetweetCount', 'State', 'Hashtags']\n",
      "dem 2016: ['CreatedAt', 'Tweets', 'LikeCount', 'RetweetCount', 'State', 'Hashtags']\n",
      "rep 2016: ['CreatedAt', 'Tweets', 'LikeCount', 'RetweetCount', 'State', 'Hashtags']\n",
      "dem 2020: ['CreatedAt', 'Tweets', 'LikeCount', 'RetweetCount', 'State', 'Hashtags']\n",
      "rep 2020: ['CreatedAt', 'Tweets', 'LikeCount', 'RetweetCount', 'State', 'Hashtags']\n"
     ]
    }
   ],
   "source": [
    "print(f'dem 2012: {list(dem2012.columns)}')\n",
    "print(f'rep 2012: {list(rep2012.columns)}')\n",
    "print(f'dem 2016: {list(dem2016.columns)}')\n",
    "print(f'rep 2016: {list(rep2016.columns)}')\n",
    "print(f'dem 2020: {list(dem2020.columns)}')\n",
    "print(f'rep 2020: {list(rep2020.columns)}')"
   ]
  },
  {
   "cell_type": "markdown",
   "id": "cfd5fbab",
   "metadata": {},
   "source": [
    "# Save Files"
   ]
  },
  {
   "cell_type": "code",
   "execution_count": 28,
   "id": "e8e63c75",
   "metadata": {},
   "outputs": [],
   "source": [
    "for year in [2012, 2016, 2020]:\n",
    "    exec(f'dem{year}.to_csv(\"data/cleaned_dem{year}.csv\", index=False)')\n",
    "    exec(f'rep{year}.to_csv(\"data/cleaned_rep{year}.csv\", index=False)')"
   ]
  }
 ],
 "metadata": {
  "kernelspec": {
   "display_name": "Python 3 (ipykernel)",
   "language": "python",
   "name": "python3"
  },
  "language_info": {
   "codemirror_mode": {
    "name": "ipython",
    "version": 3
   },
   "file_extension": ".py",
   "mimetype": "text/x-python",
   "name": "python",
   "nbconvert_exporter": "python",
   "pygments_lexer": "ipython3",
   "version": "3.10.6"
  }
 },
 "nbformat": 4,
 "nbformat_minor": 5
}
